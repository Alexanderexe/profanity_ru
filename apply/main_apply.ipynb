{
 "cells": [
  {
   "cell_type": "code",
   "execution_count": null,
   "metadata": {},
   "outputs": [],
   "source": [
    "import pickle\n",
    "import lightgbm\n",
    "from nltk.tokenize import RegexpTokenizer"
   ]
  },
  {
   "cell_type": "code",
   "execution_count": null,
   "metadata": {},
   "outputs": [],
   "source": [
    "class Profanity_replacer:\n",
    "    \n",
    "    def __init__(self, path_to_vectorizer, path_to_model):\n",
    "        self.model = lightgbm.Booster(model_file=path_to_model)\n",
    "        with open(path_to_vectorizer, 'rb') as f:\n",
    "            self.vectorizer = pickle.load(f)\n",
    "        self.tokenizer = RegexpTokenizer(r'\\w+')\n",
    "    \n",
    "    def replace_profanity(self,raw_string,threshold=0.5):\n",
    "        tokens = self.tokenizer.tokenize(raw_string)\n",
    "        for token in tokens:\n",
    "            raw_token = token\n",
    "            token = self.token_preprocess(token)\n",
    "            #print(token)\n",
    "            if self.model.predict(self.vectorizer.transform([token])) < threshold:\n",
    "                raw_string = raw_string.replace(raw_token,'*' * len(token)) #todo target replace\n",
    "        return raw_string\n",
    "    \n",
    "    def get_prediction(self,raw_string):\n",
    "        return self.model.predict(self.vectorizer.transform([raw_string]))\n",
    "    \n",
    "    def token_preprocess(self,token):\n",
    "        return token.replace('ё','e').replace('й','и')"
   ]
  },
  {
   "cell_type": "code",
   "execution_count": null,
   "metadata": {},
   "outputs": [],
   "source": [
    "test = Profanity_replacer(path_to_model='taiga_booster.model',path_to_vectorizer='vectorizer_taiga.model')"
   ]
  },
  {
   "cell_type": "code",
   "execution_count": null,
   "metadata": {},
   "outputs": [],
   "source": [
    "test.replace_profanity(raw_string='текст с ненормативной лексикой')"
   ]
  },
  {
   "cell_type": "code",
   "execution_count": null,
   "metadata": {},
   "outputs": [],
   "source": [
    "test.get_prediction('текст с ненормативной лексикой')"
   ]
  },
  {
   "cell_type": "code",
   "execution_count": null,
   "metadata": {},
   "outputs": [],
   "source": []
  }
 ],
 "metadata": {
  "kernelspec": {
   "display_name": "Python 3",
   "language": "python",
   "name": "python3"
  },
  "language_info": {
   "codemirror_mode": {
    "name": "ipython",
    "version": 3
   },
   "file_extension": ".py",
   "mimetype": "text/x-python",
   "name": "python",
   "nbconvert_exporter": "python",
   "pygments_lexer": "ipython3",
   "version": "3.6.6"
  }
 },
 "nbformat": 4,
 "nbformat_minor": 2
}
